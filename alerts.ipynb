{
 "cells": [
  {
   "cell_type": "code",
   "execution_count": 1,
   "metadata": {},
   "outputs": [],
   "source": [
    "from seldon_deploy_sdk import Configuration, ApiClient, PredictApi, SeldonDeploymentsApi,AlertingServiceApi, ModelMetadataServiceApi, DriftDetectorApi, BatchJobsApi, BatchJobDefinition\n",
    "from seldon_deploy_sdk.auth import OIDCAuthenticator\n",
    "from seldon_deploy_sdk.rest import ApiException\n",
    "import pprint\n",
    "import json\n"
   ]
  },
  {
   "cell_type": "code",
   "execution_count": 2,
   "metadata": {},
   "outputs": [],
   "source": [
    "SD_IP = \"35.204.79.113\"\n",
    "\n",
    "# Configure Auth\n",
    "config = Configuration()\n",
    "config.host = f\"http://{SD_IP}/seldon-deploy/api/v1alpha1\"\n",
    "config.oidc_client_id = \"sd-api\"\n",
    "config.oidc_server = f\"http://{SD_IP}/auth/realms/deploy-realm\"\n",
    "config.oidc_client_secret = \"sd-api-secret\"\n",
    "config.auth_method = 'client_credentials'\n",
    "config.verify_ssl = False\n",
    "auth = OIDCAuthenticator(config)\n",
    "config.id_token = auth.authenticate()\n",
    "seldon_api_client = ApiClient(configuration=config, authenticator=auth)\n",
    "\n",
    "predict_api = PredictApi(seldon_api_client)\n",
    "deployment_api = SeldonDeploymentsApi(seldon_api_client)\n",
    "# kubernetes_api = KubernetesResourcesApi(seldon_api_client)\n",
    "batch_job_api = BatchJobsApi(seldon_api_client)\n",
    "alerts_api = AlertingServiceApi(seldon_api_client)"
   ]
  },
  {
   "cell_type": "code",
   "execution_count": null,
   "metadata": {},
   "outputs": [],
   "source": [
    "DEPLOYMENT_NAME = \"income\"\n",
    "NAMESPACE = \"seldon-demos\""
   ]
  },
  {
   "cell_type": "markdown",
   "metadata": {},
   "source": [
    "## Fire Test Alert"
   ]
  },
  {
   "cell_type": "code",
   "execution_count": 11,
   "metadata": {},
   "outputs": [
    {
     "name": "stdout",
     "output_type": "stream",
     "text": [
      "Exception when calling AlertingServiceApi->alerting_service_trigger_test_alert: (400)\n",
      "Reason: Bad Request\n",
      "HTTP response headers: HTTPHeaderDict({'content-type': 'application/json', 'date': 'Wed, 27 Jul 2022 17:18:20 GMT', 'content-length': '94', 'x-envoy-upstream-service-time': '1', 'server': 'istio-envoy'})\n",
      "HTTP response body: {\"code\":3, \"message\":\"json: cannot unmarshal number into Go value of type bool\", \"details\":[]}\n",
      "\n",
      "\n"
     ]
    }
   ],
   "source": [
    "body = 1 # bool | Set to true if you wish to test Prometheus -> Alertmanager connection False sends an alert payload directly to Alertmanager, skipping Prometheus metrics/alert flow\n",
    "\n",
    "try:\n",
    "    # Triggers a test alert to check alerting workflow.\n",
    "    api_response = alerts_api.alerting_service_trigger_test_alert(body)\n",
    "    pprint.pprint(api_response)\n",
    "except ApiException as e:\n",
    "    print(\"Exception when calling AlertingServiceApi->alerting_service_trigger_test_alert: %s\\n\" % e)"
   ]
  },
  {
   "cell_type": "markdown",
   "metadata": {},
   "source": [
    "## Get a Specific Batch Job"
   ]
  },
  {
   "cell_type": "code",
   "execution_count": null,
   "metadata": {},
   "outputs": [],
   "source": [
    "JOB_NAME = \"14d7694c-73ea-49b4-b4ff-8a55133c39dc\""
   ]
  },
  {
   "cell_type": "code",
   "execution_count": null,
   "metadata": {},
   "outputs": [],
   "source": [
    "try:\n",
    "    api_response = batch_job_api.get_deployment_batch_job(DEPLOYMENT_NAME, NAMESPACE, job_name)\n",
    "    pprint(api_response)\n",
    "except ApiException as e:\n",
    "    print(\"Exception when calling BatchJobsApi->get_deployment_batch_job: %s\\n\" % e)\n"
   ]
  },
  {
   "cell_type": "code",
   "execution_count": null,
   "metadata": {},
   "outputs": [],
   "source": []
  }
 ],
 "metadata": {
  "kernelspec": {
   "display_name": "Python 3.9.7 ('data-science')",
   "language": "python",
   "name": "python3"
  },
  "language_info": {
   "codemirror_mode": {
    "name": "ipython",
    "version": 3
   },
   "file_extension": ".py",
   "mimetype": "text/x-python",
   "name": "python",
   "nbconvert_exporter": "python",
   "pygments_lexer": "ipython3",
   "version": "3.9.7"
  },
  "orig_nbformat": 4,
  "vscode": {
   "interpreter": {
    "hash": "a64daf48265175ab4f9e3b4f218504d1fb45289ba63ff66be172e6ba46f72957"
   }
  }
 },
 "nbformat": 4,
 "nbformat_minor": 2
}
