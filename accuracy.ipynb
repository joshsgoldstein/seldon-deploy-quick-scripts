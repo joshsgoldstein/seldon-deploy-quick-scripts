{
 "cells": [
  {
   "cell_type": "code",
   "execution_count": 1,
   "metadata": {},
   "outputs": [],
   "source": [
    "from seldon_deploy_sdk import Configuration, ApiClient, PredictApi, SeldonDeploymentsApi, ModelMetadataServiceApi, DriftDetectorApi, BatchJobsApi, BatchJobDefinition\n",
    "from seldon_deploy_sdk.auth import OIDCAuthenticator\n",
    "from seldon_deploy_sdk.rest import ApiException\n",
    "import pprint\n",
    "import json\n",
    "import requests\n",
    "from requests.structures import CaseInsensitiveDict"
   ]
  },
  {
   "cell_type": "code",
   "execution_count": 2,
   "metadata": {},
   "outputs": [],
   "source": [
    "SD_IP = \"34.148.148.91\"\n",
    "config = Configuration()\n",
    "config.host = f\"http://{SD_IP}/seldon-deploy/api/v1alpha1\"\n",
    "config.oidc_client_id = \"sd-api\"\n",
    "config.oidc_server = f\"http://{SD_IP}/auth/realms/deploy-realm\"\n",
    "config.oidc_client_secret = \"sd-api-secret\"\n",
    "config.auth_method = 'client_credentials'\n",
    "config.verify_ssl = False\n",
    "auth = OIDCAuthenticator(config)\n",
    "config.id_token = auth.authenticate()\n",
    "seldon_api_client = ApiClient(configuration=config, authenticator=auth)"
   ]
  },
  {
   "cell_type": "code",
   "execution_count": 3,
   "metadata": {},
   "outputs": [
    {
     "name": "stdout",
     "output_type": "stream",
     "text": [
      "eyJhbGciOiJSUzI1NiIsInR5cCIgOiAiSldUIiwia2lkIiA6ICJseEFOZHlPNjNmQTFGakNHNk1vZjB0Z0tVNVJtWmdvWWd5N0c0Ym5NY3R3In0.eyJleHAiOjE2NjAwOTc0NjYsImlhdCI6MTY2MDA2MTQ2NiwiYXV0aF90aW1lIjowLCJqdGkiOiI0YTQ1NGY5YS1jOWViLTQ3N2MtOTE4MS0xOTA3NTM0ZjY3ZjciLCJpc3MiOiJodHRwOi8vMzQuMTQ4LjE0OC45MS9hdXRoL3JlYWxtcy9kZXBsb3ktcmVhbG0iLCJhdWQiOlsic2QtYXBpIiwiZGVwbG95LXNlcnZlciJdLCJzdWIiOiIxYzM5OGExYS0wNWU1LTRmMDMtYWFmZS02YTRmYzQ0Y2EwZGEiLCJ0eXAiOiJJRCIsImF6cCI6InNkLWFwaSIsInNlc3Npb25fc3RhdGUiOiI2M2M2NjFkOC1jY2UxLTRkNzQtYTg1Ni01NzRiNGM3MGU1OWMiLCJhY3IiOiIxIiwiZW1haWxfdmVyaWZpZWQiOmZhbHNlLCJjbGllbnRJZCI6InNkLWFwaSIsImNsaWVudEhvc3QiOiIxMC4xNDIuMC41MSIsImdyb3VwcyI6W10sInByZWZlcnJlZF91c2VybmFtZSI6InNlcnZpY2UtYWNjb3VudC1zZC1hcGkiLCJjbGllbnRBZGRyZXNzIjoiMTAuMTQyLjAuNTEifQ.e0doEITaHcmvuSTPfuwZVFQYzKxvoT5kD_AJs6VIg_wc1mH9opnA2VIl5BdWwMKkbXIswpsXzitlNwMKgImeCBZi0CMNA1axM_dLhAAUcUQJhJyonXroq0Gy_8OGEX9ZPEp5R_ZImnS3ZJaythQEIFQY-t7KDPapo9Fmd6QwPxGyqNYgRkgmA8uv2iUq3vg9ZUwfbPilvIoj-UrjpIiDc3eTKp2-NBzsDRNp5YAGgG1mhp9EHuG3b6nA0sxOx2ASH7R-pdZkV7oImGnY4yibTyQojfq6akMB8OtvEWM8p59bDgU69Wez7MiE2ABnX5Q0x4ZI_R5cmmhZV-vNuoQF9g\n"
     ]
    }
   ],
   "source": [
    "print(config.id_token)"
   ]
  },
  {
   "cell_type": "code",
   "execution_count": 5,
   "metadata": {},
   "outputs": [],
   "source": [
    "DEPLOYMENT_NAME = \"iris-accuracy\"\n",
    "NAMESPACE = \"seldon-demos\""
   ]
  },
  {
   "cell_type": "markdown",
   "metadata": {},
   "source": [
    "### Make Prediction - SDK"
   ]
  },
  {
   "cell_type": "code",
   "execution_count": 6,
   "metadata": {},
   "outputs": [
    {
     "name": "stdout",
     "output_type": "stream",
     "text": [
      "{'data': {'names': ['t:0', 't:1', 't:2'], 'ndarray': [[0.008074020139119268, 0.7781601484223357, 0.21376583143854502]]}, 'meta': {'requestPath': {'iris-accuracy-container': 'seldonio/sklearnserver:1.13.1'}}}\n"
     ]
    }
   ],
   "source": [
    "# create an instance of the API class\n",
    "predict_api = PredictApi(seldon_api_client)\n",
    "\n",
    "prediction = {\n",
    "\t\"data\": {\n",
    "\t\t\"names\": [\"Sepal length\", \"Sepal width\", \"Petal length\", \"Petal Width\"],\n",
    "\t\t\"ndarray\": [\n",
    "\t\t\t[6.8, 2.8, 4.8, 1.4]\n",
    "\t\t]\n",
    "\t}\n",
    "}\n",
    "\n",
    "try:\n",
    "    api_response = predict_api.predict_seldon_deployment(DEPLOYMENT_NAME, NAMESPACE, prediction)\n",
    "    print(api_response)\n",
    "except ApiException as e:\n",
    "    print(\"Exception when calling PredictApi->predict_seldon_deployment: %s\\n\" % e)"
   ]
  },
  {
   "cell_type": "markdown",
   "metadata": {},
   "source": [
    "## Make a prediction using the API"
   ]
  },
  {
   "cell_type": "code",
   "execution_count": 28,
   "metadata": {},
   "outputs": [
    {
     "name": "stdout",
     "output_type": "stream",
     "text": [
      "http://34.148.148.91/seldon/seldon-demos/iris-accuracy/api/v1.0/predictions\n",
      "755a2125-d0bd-4df4-a023-4ff9cb16e55f\n"
     ]
    }
   ],
   "source": [
    "URL = f\"http://{SD_IP}/seldon/seldon-demos/iris-accuracy/api/v1.0/predictions\"\n",
    "print(URL)\n",
    "\n",
    "r = requests.post(URL, json=prediction, verify=False)\n",
    "\n",
    "request_id = r.headers[\"seldon-puid\"]"
   ]
  },
  {
   "cell_type": "markdown",
   "metadata": {},
   "source": [
    "## Bash Example"
   ]
  },
  {
   "cell_type": "code",
   "execution_count": 21,
   "metadata": {},
   "outputs": [
    {
     "name": "stdout",
     "output_type": "stream",
     "text": [
      "{\n",
      "  \"data\": {\n",
      "    \"names\": [\n",
      "      \"t:0\",\n",
      "      \"t:1\",\n",
      "      \"t:2\"\n",
      "    ],\n",
      "    \"ndarray\": [\n",
      "      [\n",
      "        0.008074020139119268,\n",
      "        0.7781601484223357,\n",
      "        0.21376583143854502\n",
      "      ]\n",
      "    ]\n",
      "  },\n",
      "  \"meta\": {\n",
      "    \"requestPath\": {\n",
      "      \"iris-accuracy-container\": \"seldonio/sklearnserver:1.13.1\"\n",
      "    }\n",
      "  }\n",
      "}\n"
     ]
    }
   ],
   "source": [
    "%%bash\n",
    "\n",
    "CLUSTER_IP=$(kubectl -n istio-system get service istio-ingressgateway -o jsonpath='{.status.loadBalancer.ingress[0].ip}')\n",
    "curl -k -s -H \"Content-Type: application/json\" http://$CLUSTER_IP/seldon/seldon-demos/iris-accuracy/api/v1.0/predictions -d '{\"data\":{\"names\":[\"Sepal length\",\"Sepal width\",\"Petal length\",\"Petal Width\"],\"ndarray\":[[6.8,2.8,4.8,1.4]]}}'  | jq"
   ]
  },
  {
   "cell_type": "code",
   "execution_count": 11,
   "metadata": {},
   "outputs": [
    {
     "name": "stdout",
     "output_type": "stream",
     "text": [
      "zsh:1: command not found: kubectl\n",
      "curl: (6) Could not resolve host: seldon\n"
     ]
    }
   ],
   "source": [
    "CLUSTER_IP=$(kubectl -n istio-system get service istio-ingressgateway -o jsonpath='{.status.loadBalancer.ingress[0].ip}')\n",
    "curl -k -H \"Content-Type: application/json\" http://$CLUSTER_IP/seldon/seldon-demos/iris-accuracy/api/v0.1/feedback -d '{\"response\":{\"data\":{\"ndarray\":[1]}},\"truth\":{\"data\":{\"ndarray\":[1]}}}'\n"
   ]
  },
  {
   "cell_type": "markdown",
   "metadata": {},
   "source": [
    "# Send Feedback of Request"
   ]
  },
  {
   "cell_type": "code",
   "execution_count": 90,
   "metadata": {},
   "outputs": [
    {
     "name": "stdout",
     "output_type": "stream",
     "text": [
      "{\"data\":{\"tensor\":{\"shape\":[0]}},\"meta\":{\"requestPath\":{\"iris-accuracy-container\":\"seldonio/sklearnserver:1.13.1\"}}}\n",
      "\n"
     ]
    }
   ],
   "source": [
    "\n",
    "# import requests module\n",
    "import requests\n",
    "from requests.structures import CaseInsensitiveDict\n",
    "\n",
    "URL = f\"http://{SD_IP}/seldon/seldon-demos/iris-accuracy/api/v1.0/feedback\"\n",
    "headers = CaseInsensitiveDict()\n",
    "headers[\"seldon-puid\"] = request_id\n",
    "\n",
    "body = {\n",
    "   \"response\":{\n",
    "      \"data\":{\n",
    "         \"ndarray\":[\n",
    "            1\n",
    "         ]\n",
    "      }\n",
    "   },\n",
    "   \"truth\":{\n",
    "      \"data\":{\n",
    "         \"ndarray\":[\n",
    "            0\n",
    "         ]\n",
    "      }\n",
    "   }\n",
    "}\n",
    "\n",
    "\n",
    "r = requests.post(URL, headers=headers, json=body)\n",
    "  \n",
    "# print request object\n",
    "print(r.text)"
   ]
  },
  {
   "cell_type": "code",
   "execution_count": 47,
   "metadata": {},
   "outputs": [
    {
     "name": "stdout",
     "output_type": "stream",
     "text": [
      "{\"data\":{\"tensor\":{\"shape\":[0]}},\"meta\":{\"requestPath\":{\"iris-accuracy-container\":\"seldonio/sklearnserver:1.13.1\"}}}\n"
     ]
    }
   ],
   "source": [
    "%%bash\n",
    "\n",
    "CLUSTER_IP=$(kubectl -n istio-system get service istio-ingressgateway -o jsonpath='{.status.loadBalancer.ingress[0].ip}')\n",
    "curl -k -s -H \"Content-Type: application/json\" http://$CLUSTER_IP/seldon/seldon-demos/iris-accuracy/api/v1.0/feedback \\\n",
    "    -d '{\"response\":{\"data\":{\"ndarray\":[1]}},\"truth\":{\"data\":{\"ndarray\":[1]}}}'"
   ]
  },
  {
   "cell_type": "code",
   "execution_count": null,
   "metadata": {},
   "outputs": [],
   "source": []
  }
 ],
 "metadata": {
  "kernelspec": {
   "display_name": "Python 3.9.7 ('data-science')",
   "language": "python",
   "name": "python3"
  },
  "language_info": {
   "codemirror_mode": {
    "name": "ipython",
    "version": 3
   },
   "file_extension": ".py",
   "mimetype": "text/x-python",
   "name": "python",
   "nbconvert_exporter": "python",
   "pygments_lexer": "ipython3",
   "version": "3.9.7"
  },
  "vscode": {
   "interpreter": {
    "hash": "a64daf48265175ab4f9e3b4f218504d1fb45289ba63ff66be172e6ba46f72957"
   }
  }
 },
 "nbformat": 4,
 "nbformat_minor": 4
}
