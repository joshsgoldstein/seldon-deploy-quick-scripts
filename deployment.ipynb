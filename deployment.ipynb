{
 "cells": [
  {
   "cell_type": "code",
   "execution_count": 2,
   "metadata": {},
   "outputs": [],
   "source": [
    "from seldon_deploy_sdk import Configuration, ApiClient, SeldonDeploymentsApi, ModelMetadataServiceApi, DriftDetectorApi, BatchJobsApi, BatchJobDefinition\n",
    "from seldon_deploy_sdk.auth import OIDCAuthenticator"
   ]
  },
  {
   "cell_type": "code",
   "execution_count": 3,
   "metadata": {},
   "outputs": [],
   "source": [
    "SD_IP = \"34.91.135.63\"\n",
    "config = Configuration()\n",
    "config.host = f\"http://{SD_IP}/seldon-deploy/api/v1alpha1\"\n",
    "config.oidc_client_id = \"sd-api\"\n",
    "config.oidc_server = f\"http://{SD_IP}/auth/realms/deploy-realm\"\n",
    "config.oidc_client_secret = \"sd-api-secret\"\n",
    "config.auth_method = \"client_credentials\"\n",
    "\n",
    "\n",
    "def auth():\n",
    "    auth = OIDCAuthenticator(config)\n",
    "    config.id_token = auth.authenticate()\n",
    "    api_client = ApiClient(configuration=config, authenticator=auth)\n",
    "    return api_client"
   ]
  },
  {
   "cell_type": "code",
   "execution_count": 5,
   "metadata": {},
   "outputs": [],
   "source": [
    "deployment = {'apiVersion': 'machinelearning.seldon.io/v1alpha2',\n",
    " 'kind': 'SeldonDeployment',\n",
    " 'metadata': {'labels': {'fluentd': 'true'},\n",
    "  'name': 'fraud-andrew-josh',\n",
    "  'namespace': 'seldon-demos'},\n",
    " 'spec': {'annotations': {'seldon.io/engine-seldon-log-messages-externally': 'true'},\n",
    "  'name': 'fraud',\n",
    "  'predictors': [{'componentSpecs': [{'spec': {'containers': [{'name': 'fraud-container',\n",
    "         'resources': {'limits': {'cpu': '1', 'memory': '1Gi'},\n",
    "          'requests': {'cpu': '1', 'memory': '1Gi'}}}]}}],\n",
    "    'graph': {'children': [],\n",
    "     'endpoint': {'type': 'REST'},\n",
    "     'implementation': 'XGBOOST_SERVER',\n",
    "     'logger': {'mode': 'all'},\n",
    "     'modelUri': 'gs://tom-seldon-examples/fraud-workshop/models/josh-pretrained',\n",
    "     'name': 'fraud-container',\n",
    "     'parameters': []},\n",
    "    'name': 'default',\n",
    "    'replicas': 1,\n",
    "    'traffic': 100}],\n",
    "  'protocol': 'seldon',\n",
    "  'transport': 'rest'},\n",
    " 'status': {}}"
   ]
  },
  {
   "cell_type": "code",
   "execution_count": 7,
   "metadata": {},
   "outputs": [],
   "source": [
    "deployment_api = SeldonDeploymentsApi(auth())\n",
    "deployment_api.create_seldon_deployment(namespace=\"seldon-demos\", mldeployment=deployment)"
   ]
  },
  {
   "cell_type": "markdown",
   "metadata": {},
   "source": [
    "## Check Status of Cluster"
   ]
  },
  {
   "cell_type": "code",
   "execution_count": null,
   "metadata": {},
   "outputs": [],
   "source": [
    "try:\n",
    "    api_response = deployment_api.validate_seldon_deployment(namespace, mldeployment)\n",
    "    pprint(api_response)\n",
    "except ApiException as e:\n",
    "    print(\"Exception when calling SeldonDeploymentsApi->validate_seldon_deployment: %s\\n\" % e)"
   ]
  }
 ],
 "metadata": {
  "interpreter": {
   "hash": "a64daf48265175ab4f9e3b4f218504d1fb45289ba63ff66be172e6ba46f72957"
  },
  "kernelspec": {
   "display_name": "Python 3.9.7 ('data-science')",
   "language": "python",
   "name": "python3"
  },
  "language_info": {
   "codemirror_mode": {
    "name": "ipython",
    "version": 3
   },
   "file_extension": ".py",
   "mimetype": "text/x-python",
   "name": "python",
   "nbconvert_exporter": "python",
   "pygments_lexer": "ipython3",
   "version": "3.9.7"
  },
  "orig_nbformat": 4
 },
 "nbformat": 4,
 "nbformat_minor": 2
}
