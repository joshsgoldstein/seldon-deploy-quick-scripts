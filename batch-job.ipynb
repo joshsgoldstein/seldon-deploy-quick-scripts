{
 "cells": [
  {
   "cell_type": "code",
   "execution_count": null,
   "metadata": {},
   "outputs": [],
   "source": [
    "from seldon_deploy_sdk import Configuration, ApiClient, PredictApi, SeldonDeploymentsApi, ModelMetadataServiceApi, DriftDetectorApi, BatchJobsApi, BatchJobDefinition\n",
    "from seldon_deploy_sdk.auth import OIDCAuthenticator\n",
    "from seldon_deploy_sdk.rest import ApiException\n",
    "import pprint\n",
    "import json\n"
   ]
  },
  {
   "cell_type": "code",
   "execution_count": null,
   "metadata": {},
   "outputs": [],
   "source": [
    "SD_IP = \"35.204.79.113\"\n",
    "\n",
    "# Configure Auth\n",
    "config = Configuration()\n",
    "config.host = f\"http://{SD_IP}/seldon-deploy/api/v1alpha1\"\n",
    "config.oidc_client_id = \"sd-api\"\n",
    "config.oidc_server = f\"http://{SD_IP}/auth/realms/deploy-realm\"\n",
    "config.oidc_client_secret = \"sd-api-secret\"\n",
    "config.auth_method = 'client_credentials'\n",
    "config.verify_ssl = False\n",
    "auth = OIDCAuthenticator(config)\n",
    "config.id_token = auth.authenticate()\n",
    "seldon_api_client = ApiClient(configuration=config, authenticator=auth)\n",
    "\n",
    "predict_api = PredictApi(seldon_api_client)\n",
    "deployment_api = SeldonDeploymentsApi(seldon_api_client)\n",
    "# kubernetes_api = KubernetesResourcesApi(seldon_api_client)\n",
    "batch_job_api = BatchJobsApi(seldon_api_client)"
   ]
  },
  {
   "cell_type": "code",
   "execution_count": null,
   "metadata": {},
   "outputs": [],
   "source": [
    "DEPLOYMENT_NAME = \"income\"\n",
    "NAMESPACE = \"seldon-demos\""
   ]
  },
  {
   "cell_type": "markdown",
   "metadata": {},
   "source": [
    "## Get all Batch Jobs"
   ]
  },
  {
   "cell_type": "code",
   "execution_count": 7,
   "metadata": {},
   "outputs": [
    {
     "name": "stdout",
     "output_type": "stream",
     "text": [
      "{'batch_jobs': [{'FinishedAt': '2022-06-30T13:48:37Z',\n",
      "                 'StartedAt': '2022-06-30T13:45:54Z',\n",
      "                 'workflowName': 'seldon-seldon-demos-income-default-income-containerincome-gjxtz',\n",
      "                 'workflowStatus': 'Succeeded',\n",
      "                 'workflowUID': '14d7694c-73ea-49b4-b4ff-8a55133c39dc'},\n",
      "                {'FinishedAt': '2022-06-30T13:29:08Z',\n",
      "                 'StartedAt': '2022-06-30T13:25:57Z',\n",
      "                 'workflowName': 'income-wxgm4',\n",
      "                 'workflowStatus': 'Succeeded',\n",
      "                 'workflowUID': '576f24ce-5479-42cf-8541-08d97dad3beb'},\n",
      "                {'FinishedAt': '2022-06-29T17:58:36Z',\n",
      "                 'StartedAt': '2022-06-29T17:56:22Z',\n",
      "                 'workflowName': 'income-wd8bm',\n",
      "                 'workflowStatus': 'Succeeded',\n",
      "                 'workflowUID': 'e1231e51-b69d-443c-aeb0-93c5da41a31e'}],\n",
      " 'limit': 10,\n",
      " 'page': 0,\n",
      " 'pages_count': 1}\n"
     ]
    }
   ],
   "source": [
    "try:\n",
    "    api_response = batch_job_api.list_seldon_deployment_batch_jobs(DEPLOYMENT_NAME, NAMESPACE)\n",
    "    pprint.pprint(api_response)\n",
    "except ApiException as e:\n",
    "    print(\"Exception when calling BatchJobsApi->list_seldon_deployment_batch_jobs: %s\\n\" % e)"
   ]
  },
  {
   "cell_type": "markdown",
   "metadata": {},
   "source": [
    "## Get a Specific Batch Job"
   ]
  },
  {
   "cell_type": "code",
   "execution_count": null,
   "metadata": {},
   "outputs": [],
   "source": [
    "JOB_NAME = \"14d7694c-73ea-49b4-b4ff-8a55133c39dc\""
   ]
  },
  {
   "cell_type": "code",
   "execution_count": null,
   "metadata": {},
   "outputs": [],
   "source": [
    "try:\n",
    "    api_response = batch_job_api.get_deployment_batch_job(DEPLOYMENT_NAME, NAMESPACE, job_name)\n",
    "    pprint(api_response)\n",
    "except ApiException as e:\n",
    "    print(\"Exception when calling BatchJobsApi->get_deployment_batch_job: %s\\n\" % e)\n"
   ]
  },
  {
   "cell_type": "code",
   "execution_count": null,
   "metadata": {},
   "outputs": [],
   "source": []
  }
 ],
 "metadata": {
  "kernelspec": {
   "display_name": "Python 3.9.7 ('data-science')",
   "language": "python",
   "name": "python3"
  },
  "language_info": {
   "codemirror_mode": {
    "name": "ipython",
    "version": 3
   },
   "file_extension": ".py",
   "mimetype": "text/x-python",
   "name": "python",
   "nbconvert_exporter": "python",
   "pygments_lexer": "ipython3",
   "version": "3.9.7"
  },
  "orig_nbformat": 4,
  "vscode": {
   "interpreter": {
    "hash": "a64daf48265175ab4f9e3b4f218504d1fb45289ba63ff66be172e6ba46f72957"
   }
  }
 },
 "nbformat": 4,
 "nbformat_minor": 2
}
