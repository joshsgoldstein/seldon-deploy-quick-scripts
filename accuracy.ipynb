{
 "cells": [
  {
   "cell_type": "code",
   "execution_count": 7,
   "metadata": {},
   "outputs": [],
   "source": [
    "from seldon_deploy_sdk import Configuration, ApiClient, PredictApi, SeldonDeploymentsApi, ModelMetadataServiceApi, DriftDetectorApi, BatchJobsApi, BatchJobDefinition\n",
    "from seldon_deploy_sdk.auth import OIDCAuthenticator\n",
    "from seldon_deploy_sdk.rest import ApiException\n",
    "import pprint\n",
    "import json\n",
    "import requests\n",
    "from requests.structures import CaseInsensitiveDict"
   ]
  },
  {
   "cell_type": "code",
   "execution_count": 8,
   "metadata": {},
   "outputs": [],
   "source": [
    "SD_IP = \"35.196.51.203\"\n",
    "config = Configuration()\n",
    "config.host = f\"http://{SD_IP}/seldon-deploy/api/v1alpha1\"\n",
    "config.oidc_client_id = \"sd-api\"\n",
    "config.oidc_server = f\"http://{SD_IP}/auth/realms/deploy-realm\"\n",
    "config.oidc_client_secret = \"sd-api-secret\"\n",
    "config.auth_method = 'client_credentials'\n",
    "config.verify_ssl = False\n",
    "auth = OIDCAuthenticator(config)\n",
    "config.id_token = auth.authenticate()\n",
    "seldon_api_client = ApiClient(configuration=config, authenticator=auth)"
   ]
  },
  {
   "cell_type": "code",
   "execution_count": 9,
   "metadata": {},
   "outputs": [
    {
     "name": "stdout",
     "output_type": "stream",
     "text": [
      "eyJhbGciOiJSUzI1NiIsInR5cCIgOiAiSldUIiwia2lkIiA6ICJ4eEk5VXp0Slc0MFFVSklfSUhoX3NmbkRKd1VLUXc4LXRaalN0X2xqOWRrIn0.eyJleHAiOjE2NjAzNjMwNjAsImlhdCI6MTY2MDMyNzA2MCwiYXV0aF90aW1lIjowLCJqdGkiOiJhOWRiZTRhNS1kODc0LTQ5ZjItOGU4Ni00MGEwYmNiMDIyMGEiLCJpc3MiOiJodHRwOi8vMzUuMTk2LjUxLjIwMy9hdXRoL3JlYWxtcy9kZXBsb3ktcmVhbG0iLCJhdWQiOlsic2QtYXBpIiwiZGVwbG95LXNlcnZlciJdLCJzdWIiOiIxYzM5OGExYS0wNWU1LTRmMDMtYWFmZS02YTRmYzQ0Y2EwZGEiLCJ0eXAiOiJJRCIsImF6cCI6InNkLWFwaSIsInNlc3Npb25fc3RhdGUiOiJlMTAwZmUxNy0zNGY1LTRiOTktYjU3Yi0yOGM1MDkyZjdiZTIiLCJhY3IiOiIxIiwiZW1haWxfdmVyaWZpZWQiOmZhbHNlLCJjbGllbnRJZCI6InNkLWFwaSIsImNsaWVudEhvc3QiOiIxMC4xNDIuMC4xMDYiLCJncm91cHMiOltdLCJwcmVmZXJyZWRfdXNlcm5hbWUiOiJzZXJ2aWNlLWFjY291bnQtc2QtYXBpIiwiY2xpZW50QWRkcmVzcyI6IjEwLjE0Mi4wLjEwNiJ9.BA4uns_eed-RHmmWhKgQnrQS3YoCYVFesUK6k5XM5_d_9JildZ_NDM8AXBzNKli14azwRq_hYozFaqPiQeb72_AeS3TtBEdDUHAVEFkNGickTZQkvhIMwgLxShPpRsNcNfb-yjsVl7hzbQ0Z4xl1I6pQQZbtbyOsaRyY-QANZUCAj6FjdYsr2rZao-vylinbvefGX82Vr3fuCusqg2wMwtuK503pRd-weESD6JIrIJJfhjLzmk0FxefkfW0-4Ub_IahFI8x1oP9Gx_xLTs8qYMWrpWYAYVxu7tqsuHyv4wg2yk0mp7O1_mDpmq7HzeomC0JEEGQGJ0BM_Ekf3g_y-w\n"
     ]
    }
   ],
   "source": [
    "print(config.id_token)"
   ]
  },
  {
   "cell_type": "code",
   "execution_count": 10,
   "metadata": {},
   "outputs": [],
   "source": [
    "MODEL_NAME = \"iris-classification\"\n",
    "DEPLOYMENT_NAME = f\"{MODEL_NAME}\"\n",
    "NAMESPACE = \"seldon-demos\""
   ]
  },
  {
   "cell_type": "markdown",
   "metadata": {},
   "source": [
    "### Make Prediction - SDK"
   ]
  },
  {
   "cell_type": "code",
   "execution_count": 11,
   "metadata": {},
   "outputs": [
    {
     "name": "stdout",
     "output_type": "stream",
     "text": [
      "{'data': {'names': ['t:0', 't:1', 't:2'], 'ndarray': [[0.008074020139119268, 0.7781601484223357, 0.21376583143854502]]}, 'meta': {'requestPath': {'iris-classification-container': 'seldonio/sklearnserver:1.13.1'}}}\n"
     ]
    }
   ],
   "source": [
    "# create an instance of the API class\n",
    "predict_api = PredictApi(seldon_api_client)\n",
    "\n",
    "prediction = {\n",
    "\t\"data\": {\n",
    "\t\t\"names\": [\"Sepal length\", \"Sepal width\", \"Petal length\", \"Petal Width\"],\n",
    "\t\t\"ndarray\": [\n",
    "\t\t\t[6.8, 2.8, 4.8, 1.4]\n",
    "\t\t]\n",
    "\t}\n",
    "}\n",
    "\n",
    "try:\n",
    "    api_response = predict_api.predict_seldon_deployment(DEPLOYMENT_NAME, NAMESPACE, prediction)\n",
    "    print(api_response)\n",
    "except ApiException as e:\n",
    "    print(\"Exception when calling PredictApi->predict_seldon_deployment: %s\\n\" % e)"
   ]
  },
  {
   "cell_type": "markdown",
   "metadata": {},
   "source": [
    "## Make a prediction using the API"
   ]
  },
  {
   "cell_type": "code",
   "execution_count": 14,
   "metadata": {},
   "outputs": [
    {
     "name": "stdout",
     "output_type": "stream",
     "text": [
      "http://35.196.51.203/seldon/seldon-demos/iris-accuracy/api/v1.0/predictions\n",
      "\n"
     ]
    }
   ],
   "source": [
    "URL = f\"http://{SD_IP}/seldon/seldon-demos/iris-accuracy/api/v1.0/predictions\"\n",
    "print(URL)\n",
    "\n",
    "r = requests.post(URL, json=prediction, verify=False)\n",
    "\n",
    "# request_id = r.headers[\"seldon-puid\"]\n",
    "\n",
    "# print(f\"Prediction request id: {request_id}\")\n",
    "print(r.text)"
   ]
  },
  {
   "cell_type": "markdown",
   "metadata": {},
   "source": [
    "## Bash Example"
   ]
  },
  {
   "cell_type": "code",
   "execution_count": 15,
   "metadata": {},
   "outputs": [],
   "source": [
    "%%bash\n",
    "\n",
    "CLUSTER_IP=$(kubectl -n istio-system get service istio-ingressgateway -o jsonpath='{.status.loadBalancer.ingress[0].ip}')\n",
    "curl -k -s -H \"Content-Type: application/json\" http://$CLUSTER_IP/seldon/seldon-demos/iris-accuracy/api/v1.0/predictions -d '{\"data\":{\"names\":[\"Sepal length\",\"Sepal width\",\"Petal length\",\"Petal Width\"],\"ndarray\":[[6.8,2.8,4.8,1.4]]}}'  | jq"
   ]
  },
  {
   "cell_type": "code",
   "execution_count": 11,
   "metadata": {},
   "outputs": [
    {
     "name": "stdout",
     "output_type": "stream",
     "text": [
      "zsh:1: command not found: kubectl\n",
      "curl: (6) Could not resolve host: seldon\n"
     ]
    }
   ],
   "source": [
    "CLUSTER_IP=$(kubectl -n istio-system get service istio-ingressgateway -o jsonpath='{.status.loadBalancer.ingress[0].ip}')\n",
    "curl -k -H \"Content-Type: application/json\" http://$CLUSTER_IP/seldon/seldon-demos/iris-accuracy/api/v0.1/feedback -d '{\"response\":{\"data\":{\"ndarray\":[1]}},\"truth\":{\"data\":{\"ndarray\":[1]}}}'\n"
   ]
  },
  {
   "cell_type": "markdown",
   "metadata": {},
   "source": [
    "# Send Feedback of Request"
   ]
  },
  {
   "cell_type": "code",
   "execution_count": 17,
   "metadata": {},
   "outputs": [
    {
     "name": "stdout",
     "output_type": "stream",
     "text": [
      "\n"
     ]
    }
   ],
   "source": [
    "\n",
    "# import requests module\n",
    "import requests\n",
    "from requests.structures import CaseInsensitiveDict\n",
    "\n",
    "URL = f\"http://{SD_IP}/seldon/seldon-demos/iris-accuracy/api/v1.0/feedback\"\n",
    "headers = CaseInsensitiveDict()\n",
    "headers[\"seldon-puid\"] = request_id\n",
    "\n",
    "body = {\n",
    "   \"response\":{\n",
    "      \"data\":{\n",
    "         \"ndarray\":[\n",
    "            1\n",
    "         ]\n",
    "      }\n",
    "   },\n",
    "   \"truth\":{\n",
    "      \"data\":{\n",
    "         \"ndarray\":[\n",
    "            0\n",
    "         ]\n",
    "      }\n",
    "   }\n",
    "}\n",
    "\n",
    "\n",
    "r = requests.post(URL, headers=headers, json=body)\n",
    "  \n",
    "# print request object\n",
    "print(r.text)"
   ]
  },
  {
   "cell_type": "code",
   "execution_count": 47,
   "metadata": {},
   "outputs": [
    {
     "name": "stdout",
     "output_type": "stream",
     "text": [
      "{\"data\":{\"tensor\":{\"shape\":[0]}},\"meta\":{\"requestPath\":{\"iris-accuracy-container\":\"seldonio/sklearnserver:1.13.1\"}}}\n"
     ]
    }
   ],
   "source": [
    "%%bash\n",
    "\n",
    "CLUSTER_IP=$(kubectl -n istio-system get service istio-ingressgateway -o jsonpath='{.status.loadBalancer.ingress[0].ip}')\n",
    "curl -k -s -H \"Content-Type: application/json\" http://$CLUSTER_IP/seldon/seldon-demos/iris-accuracy/api/v1.0/feedback \\\n",
    "    -d '{\"response\":{\"data\":{\"ndarray\":[1]}},\"truth\":{\"data\":{\"ndarray\":[1]}}}'"
   ]
  },
  {
   "cell_type": "code",
   "execution_count": null,
   "metadata": {},
   "outputs": [],
   "source": []
  }
 ],
 "metadata": {
  "kernelspec": {
   "display_name": "Python 3.9.7 ('data-science')",
   "language": "python",
   "name": "python3"
  },
  "language_info": {
   "codemirror_mode": {
    "name": "ipython",
    "version": 3
   },
   "file_extension": ".py",
   "mimetype": "text/x-python",
   "name": "python",
   "nbconvert_exporter": "python",
   "pygments_lexer": "ipython3",
   "version": "3.9.7"
  },
  "vscode": {
   "interpreter": {
    "hash": "a64daf48265175ab4f9e3b4f218504d1fb45289ba63ff66be172e6ba46f72957"
   }
  }
 },
 "nbformat": 4,
 "nbformat_minor": 4
}
