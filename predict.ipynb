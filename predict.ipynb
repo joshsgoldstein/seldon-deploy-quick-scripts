{
 "cells": [
  {
   "cell_type": "code",
   "execution_count": null,
   "metadata": {},
   "outputs": [],
   "source": [
    "from seldon_deploy_sdk import KubernetesResourcesApi, Configuration, ApiClient, SeldonDeploymentsApi, ModelMetadataServiceApi, DriftDetectorApi, BatchJobsApi, BatchJobDefinition, PredictApi\n",
    "from seldon_deploy_sdk.auth import OIDCAuthenticator\n",
    "from seldon_deploy_sdk.rest import ApiException\n",
    "\n",
    "import pprint"
   ]
  },
  {
   "cell_type": "code",
   "execution_count": null,
   "metadata": {},
   "outputs": [],
   "source": [
    "SD_IP = \"35.204.79.113\"\n",
    "\n",
    "# Configure Auth\n",
    "config = Configuration()\n",
    "config.host = f\"http://{SD_IP}/seldon-deploy/api/v1alpha1\"\n",
    "config.oidc_client_id = \"sd-api\"\n",
    "config.oidc_server = f\"http://{SD_IP}/auth/realms/deploy-realm\"\n",
    "config.oidc_client_secret = \"sd-api-secret\"\n",
    "config.auth_method = 'client_credentials'\n",
    "config.verify_ssl = False\n",
    "auth = OIDCAuthenticator(config)\n",
    "config.id_token = auth.authenticate()\n",
    "seldon_api_client = ApiClient(configuration=config, authenticator=auth)\n",
    "\n",
    "predict_api = PredictApi(seldon_api_client)\n",
    "deployment_api = SeldonDeploymentsApi(seldon_api_client)\n",
    "kubernetes_api = KubernetesResourcesApi(seldon_api_client)"
   ]
  },
  {
   "cell_type": "markdown",
   "metadata": {},
   "source": [
    "You can now send requests to your model. As an example of a normal request:\n",
    "```\n",
    "{\n",
    "    \"data\": {\n",
    "        \"names\": [\"step\", \"type\", \"amount\", \"oldBalanceOrig\", \"newBalanceOrig\",\n",
    "                  \"oldBalanceDest\", \"newBalanceDest\", \"errorBalanceOrig\", \"errorBalanceDest\"],\n",
    "        \"ndarray\": [\n",
    "            [205, 1, 63243.44, -1.00, -1.00, 1853683.32, 1916926.76, 63243.44, 0]\n",
    "        ]\n",
    "    }\n",
    "}\n",
    "```\n",
    "And a fraudulent transaction too:\n",
    "\n",
    "```\n",
    "{\n",
    "    \"data\": {\n",
    "        \"names\": [\"step\", \"type\", \"amount\", \"oldBalanceOrig\", \"newBalanceOrig\",\n",
    "                  \"oldBalanceDest\", \"newBalanceDest\", \"errorBalanceOrig\", \"errorBalanceDest\"],\n",
    "        \"ndarray\": [\n",
    "            [629, 1, 2433009.28, 2433009.28, 0.00, 0.00, 2433009.28, 0.00, 0.00]\n",
    "        ]\n",
    "    }\n",
    "}\n",
    "```"
   ]
  },
  {
   "cell_type": "code",
   "execution_count": null,
   "metadata": {},
   "outputs": [],
   "source": [
    "# create an instance of the API class\n",
    "\n",
    "name = 'blabla' # str | Name identifies a resource\n",
    "namespace = 'seldon-demos' # str | Namespace provides a logical grouping of resources\n",
    "prediction = {\n",
    "    \"data\": {\n",
    "        \"names\": [\"step\", \"type\", \"amount\", \"oldBalanceOrig\", \"newBalanceOrig\",\n",
    "                  \"oldBalanceDest\", \"newBalanceDest\", \"errorBalanceOrig\", \"errorBalanceDest\"],\n",
    "        \"ndarray\": [\n",
    "            [205, 1, 63243.44, -1.00, -1.00, 1853683.32, 1916926.76, 63243.44, 0]\n",
    "        ]\n",
    "    }\n",
    "}\n",
    "\n",
    "try:\n",
    "    api_response = predict_api.predict_seldon_deployment(name, namespace, prediction)\n",
    "    print(api_response)\n",
    "except ApiException as e:\n",
    "    print(\"Exception when calling PredictApi->predict_seldon_deployment: %s\\n\" % e)"
   ]
  },
  {
   "cell_type": "code",
   "execution_count": null,
   "metadata": {},
   "outputs": [],
   "source": [
    "try:\n",
    "    deployment_status = deployment_api.validate_seldon_deployment(namespace, \"fraud-andrew-josh\")\n",
    "    print(api_response)\n",
    "except ApiException as e:\n",
    "    print(\"Exception when calling SeldonDeploymentsApi->validate_seldon_deployment: %s\\n\" % e)"
   ]
  },
  {
   "cell_type": "code",
   "execution_count": null,
   "metadata": {},
   "outputs": [],
   "source": [
    "try:\n",
    "    api_response = deployment_api.read_seldon_deployment(\"fraud-andrew-josh\", namespace)\n",
    "    print(api_response)\n",
    "except ApiException as e:\n",
    "    print(\"Exception when calling SeldonDeploymentsApi->read_seldon_deployment: %s\\n\" % e)\n"
   ]
  },
  {
   "cell_type": "code",
   "execution_count": null,
   "metadata": {},
   "outputs": [],
   "source": [
    "name = 'blabla' # str | Name identifies a resource\n",
    "namespace = 'seldon-demos' # str | Namespace provides a logical grouping of resources\n",
    "component = 'predictor' # str | Component differentiates between types of model (e.g. predictor, explainer... etc) (optional)\n",
    "\n",
    "try:\n",
    "    api_response = kubernetes_api.list_seldon_deployment_resources(name, namespace, component=component)\n",
    "    print(api_response)\n",
    "except ApiException as e:\n",
    "    print(\"Exception when calling KubernetesResourcesApi->list_seldon_deployment_resources: %s\\n\" % e)"
   ]
  },
  {
   "cell_type": "code",
   "execution_count": null,
   "metadata": {},
   "outputs": [],
   "source": []
  }
 ],
 "metadata": {
  "kernelspec": {
   "display_name": "Python 3.9.7 ('data-science')",
   "language": "python",
   "name": "python3"
  },
  "language_info": {
   "codemirror_mode": {
    "name": "ipython",
    "version": 3
   },
   "file_extension": ".py",
   "mimetype": "text/x-python",
   "name": "python",
   "nbconvert_exporter": "python",
   "pygments_lexer": "ipython3",
   "version": "3.9.7"
  },
  "orig_nbformat": 4,
  "vscode": {
   "interpreter": {
    "hash": "a64daf48265175ab4f9e3b4f218504d1fb45289ba63ff66be172e6ba46f72957"
   }
  }
 },
 "nbformat": 4,
 "nbformat_minor": 2
}
